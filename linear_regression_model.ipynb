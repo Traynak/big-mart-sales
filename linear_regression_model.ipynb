{
 "cells": [
  {
   "cell_type": "code",
   "execution_count": 1,
   "metadata": {},
   "outputs": [],
   "source": [
    "import plotly\n",
    "plotly.tools.set_credentials_file(username='', api_key='')"
   ]
  },
  {
   "cell_type": "code",
   "execution_count": 2,
   "metadata": {},
   "outputs": [],
   "source": [
    "import numpy as np\n",
    "import pandas as pd\n",
    "from scipy.stats import mode\n",
    "from sklearn import metrics\n",
    "from sklearn.model_selection import cross_val_score\n",
    "from sklearn.linear_model import LinearRegression\n",
    "import statsmodels.api as sm\n",
    "import plotly\n",
    "import plotly.plotly as py\n",
    "import plotly.figure_factory as ff\n",
    "import plotly.graph_objs as go\n",
    "\n",
    "#read files\n",
    "train = pd.read_csv(\"data/train_modified.csv\")\n",
    "test = pd.read_csv(\"data/test_modified.csv\")"
   ]
  },
  {
   "cell_type": "code",
   "execution_count": 3,
   "metadata": {},
   "outputs": [
    {
     "name": "stdout",
     "output_type": "stream",
     "text": [
      "<class 'pandas.core.frame.DataFrame'>\n",
      "RangeIndex: 8523 entries, 0 to 8522\n",
      "Data columns (total 38 columns):\n",
      "Item_Identifier             8523 non-null object\n",
      "Item_MRP                    8523 non-null float64\n",
      "Item_Outlet_Sales           8523 non-null float64\n",
      "Item_Visibility             8523 non-null float64\n",
      "Item_Weight                 8523 non-null float64\n",
      "Outlet_Identifier           8523 non-null object\n",
      "Item_Type_Avg_Sale          8523 non-null float64\n",
      "Item_Type_Sale_Frequency    8523 non-null float64\n",
      "Years_Open                  8523 non-null int64\n",
      "Outlet                      8523 non-null int64\n",
      "Item_Fat_Content_0          8523 non-null int64\n",
      "Item_Fat_Content_1          8523 non-null int64\n",
      "Item_Type_0                 8523 non-null int64\n",
      "Item_Type_1                 8523 non-null int64\n",
      "Item_Type_2                 8523 non-null int64\n",
      "Item_Type_3                 8523 non-null int64\n",
      "Item_Type_4                 8523 non-null int64\n",
      "Item_Type_5                 8523 non-null int64\n",
      "Item_Type_6                 8523 non-null int64\n",
      "Item_Type_7                 8523 non-null int64\n",
      "Item_Type_8                 8523 non-null int64\n",
      "Item_Type_9                 8523 non-null int64\n",
      "Item_Type_10                8523 non-null int64\n",
      "Item_Type_11                8523 non-null int64\n",
      "Item_Type_12                8523 non-null int64\n",
      "Item_Type_13                8523 non-null int64\n",
      "Item_Type_14                8523 non-null int64\n",
      "Item_Type_15                8523 non-null int64\n",
      "Outlet_Location_Type_0      8523 non-null int64\n",
      "Outlet_Location_Type_1      8523 non-null int64\n",
      "Outlet_Location_Type_2      8523 non-null int64\n",
      "Outlet_Size_0               8523 non-null int64\n",
      "Outlet_Size_1               8523 non-null int64\n",
      "Outlet_Size_2               8523 non-null int64\n",
      "Outlet_Type_0               8523 non-null int64\n",
      "Outlet_Type_1               8523 non-null int64\n",
      "Outlet_Type_2               8523 non-null int64\n",
      "Outlet_Type_3               8523 non-null int64\n",
      "dtypes: float64(6), int64(30), object(2)\n",
      "memory usage: 2.5+ MB\n"
     ]
    }
   ],
   "source": [
    "train.info()"
   ]
  },
  {
   "cell_type": "markdown",
   "metadata": {},
   "source": [
    "# FEATURE SELECTION"
   ]
  },
  {
   "cell_type": "markdown",
   "metadata": {},
   "source": [
    "#### Review highly correlated features "
   ]
  },
  {
   "cell_type": "code",
   "execution_count": 4,
   "metadata": {},
   "outputs": [],
   "source": [
    "corr_matrix = train.corr().abs()\n",
    "#corr_matrix"
   ]
  },
  {
   "cell_type": "code",
   "execution_count": 5,
   "metadata": {
    "scrolled": true
   },
   "outputs": [
    {
     "data": {
      "text/html": [
       "<iframe id=\"igraph\" scrolling=\"no\" style=\"border:none;\" seamless=\"seamless\" src=\"https://plot.ly/~traynak/47.embed\" height=\"525px\" width=\"100%\"></iframe>"
      ],
      "text/plain": [
       "<plotly.tools.PlotlyDisplay object>"
      ]
     },
     "execution_count": 5,
     "metadata": {},
     "output_type": "execute_result"
    }
   ],
   "source": [
    "data = [go.Heatmap(z=corr_matrix.values.tolist(), colorscale='Viridis')]\n",
    "py.iplot(data, filename='feature_corr')"
   ]
  },
  {
   "cell_type": "markdown",
   "metadata": {},
   "source": [
    "#### Remove features with correlation greater than 0.6"
   ]
  },
  {
   "cell_type": "code",
   "execution_count": 6,
   "metadata": {},
   "outputs": [
    {
     "data": {
      "text/plain": [
       "[('Item_Type_Avg_Sale', 'Item_Type_Sale_Frequency'),\n",
       " ('Item_Type_Avg_Sale', 'Item_Type_12'),\n",
       " ('Outlet', 'Outlet_Location_Type_0'),\n",
       " ('Outlet', 'Outlet_Location_Type_2'),\n",
       " ('Item_Fat_Content_0', 'Item_Fat_Content_1'),\n",
       " ('Outlet_Location_Type_1', 'Outlet_Size_2'),\n",
       " ('Outlet_Location_Type_2', 'Outlet_Size_2'),\n",
       " ('Outlet_Location_Type_2', 'Outlet_Type_1'),\n",
       " ('Outlet_Size_1', 'Outlet_Size_2')]"
      ]
     },
     "execution_count": 6,
     "metadata": {},
     "output_type": "execute_result"
    }
   ],
   "source": [
    "corr_var_60=np.where(corr_matrix>0.6)\n",
    "corr_var_60=[(corr_matrix.columns[x],corr_matrix.columns[y]) for x,y in zip(*corr_var_60) if x!=y and x<y]\n",
    "corr_var_60"
   ]
  },
  {
   "cell_type": "code",
   "execution_count": 7,
   "metadata": {},
   "outputs": [],
   "source": [
    "train.drop(['Item_Type_Avg_Sale','Item_Fat_Content_0','Outlet_Size_1','Outlet_Size_2','Outlet_Location_Type_0','Outlet_Location_Type_1','Outlet_Location_Type_2'], axis=1, inplace=True)"
   ]
  },
  {
   "cell_type": "code",
   "execution_count": 8,
   "metadata": {},
   "outputs": [
    {
     "data": {
      "text/plain": [
       "[]"
      ]
     },
     "execution_count": 8,
     "metadata": {},
     "output_type": "execute_result"
    }
   ],
   "source": [
    "corr_matrix2 = train.corr().abs()\n",
    "corr_var_60=np.where(corr_matrix2>0.6)\n",
    "corr_var_60=[(corr_matrix2.columns[x],corr_matrix2.columns[y]) for x,y in zip(*corr_var_60) if x!=y and x<y]\n",
    "corr_var_60"
   ]
  },
  {
   "cell_type": "markdown",
   "metadata": {},
   "source": [
    "#### Review the relationship between each independent variable and Item_Outlet_Sales. If there is no correlation, remove the feature because there is no relationship between the changes in the independent variable and shifts Item_Outlet_Sales"
   ]
  },
  {
   "cell_type": "code",
   "execution_count": 9,
   "metadata": {},
   "outputs": [
    {
     "data": {
      "text/html": [
       "<table class=\"simpletable\">\n",
       "<caption>OLS Regression Results</caption>\n",
       "<tr>\n",
       "  <th>Dep. Variable:</th>    <td>Item_Outlet_Sales</td> <th>  R-squared:         </th> <td>   0.563</td> \n",
       "</tr>\n",
       "<tr>\n",
       "  <th>Model:</th>                   <td>OLS</td>        <th>  Adj. R-squared:    </th> <td>   0.561</td> \n",
       "</tr>\n",
       "<tr>\n",
       "  <th>Method:</th>             <td>Least Squares</td>   <th>  F-statistic:       </th> <td>   437.3</td> \n",
       "</tr>\n",
       "<tr>\n",
       "  <th>Date:</th>             <td>Wed, 06 Mar 2019</td>  <th>  Prob (F-statistic):</th>  <td>  0.00</td>  \n",
       "</tr>\n",
       "<tr>\n",
       "  <th>Time:</th>                 <td>07:56:36</td>      <th>  Log-Likelihood:    </th> <td> -71998.</td> \n",
       "</tr>\n",
       "<tr>\n",
       "  <th>No. Observations:</th>      <td>  8523</td>       <th>  AIC:               </th> <td>1.440e+05</td>\n",
       "</tr>\n",
       "<tr>\n",
       "  <th>Df Residuals:</th>          <td>  8497</td>       <th>  BIC:               </th> <td>1.442e+05</td>\n",
       "</tr>\n",
       "<tr>\n",
       "  <th>Df Model:</th>              <td>    25</td>       <th>                     </th>     <td> </td>    \n",
       "</tr>\n",
       "<tr>\n",
       "  <th>Covariance Type:</th>      <td>nonrobust</td>     <th>                     </th>     <td> </td>    \n",
       "</tr>\n",
       "</table>\n",
       "<table class=\"simpletable\">\n",
       "<tr>\n",
       "              <td></td>                <th>coef</th>     <th>std err</th>      <th>t</th>      <th>P>|t|</th>  <th>[0.025</th>    <th>0.975]</th>  \n",
       "</tr>\n",
       "<tr>\n",
       "  <th>const</th>                    <td>   -9.2138</td> <td>   67.437</td> <td>   -0.137</td> <td> 0.891</td> <td> -141.406</td> <td>  122.979</td>\n",
       "</tr>\n",
       "<tr>\n",
       "  <th>Item_MRP</th>                 <td>   15.5650</td> <td>    0.198</td> <td>   78.660</td> <td> 0.000</td> <td>   15.177</td> <td>   15.953</td>\n",
       "</tr>\n",
       "<tr>\n",
       "  <th>Item_Visibility</th>          <td> -206.1571</td> <td>  258.081</td> <td>   -0.799</td> <td> 0.424</td> <td> -712.058</td> <td>  299.744</td>\n",
       "</tr>\n",
       "<tr>\n",
       "  <th>Item_Weight</th>              <td>    0.2213</td> <td>    2.659</td> <td>    0.083</td> <td> 0.934</td> <td>   -4.990</td> <td>    5.433</td>\n",
       "</tr>\n",
       "<tr>\n",
       "  <th>Item_Type_Sale_Frequency</th> <td>   -4.4367</td> <td>    4.007</td> <td>   -1.107</td> <td> 0.268</td> <td>  -12.292</td> <td>    3.419</td>\n",
       "</tr>\n",
       "<tr>\n",
       "  <th>Years_Open</th>               <td>   -1.9928</td> <td>    7.181</td> <td>   -0.278</td> <td> 0.781</td> <td>  -16.069</td> <td>   12.083</td>\n",
       "</tr>\n",
       "<tr>\n",
       "  <th>Outlet</th>                   <td>   -5.2154</td> <td>   13.066</td> <td>   -0.399</td> <td> 0.690</td> <td>  -30.827</td> <td>   20.396</td>\n",
       "</tr>\n",
       "<tr>\n",
       "  <th>Item_Fat_Content_1</th>       <td>   40.3537</td> <td>   28.262</td> <td>    1.428</td> <td> 0.153</td> <td>  -15.046</td> <td>   95.753</td>\n",
       "</tr>\n",
       "<tr>\n",
       "  <th>Item_Type_0</th>              <td>   -0.4238</td> <td>   43.637</td> <td>   -0.010</td> <td> 0.992</td> <td>  -85.963</td> <td>   85.115</td>\n",
       "</tr>\n",
       "<tr>\n",
       "  <th>Item_Type_1</th>              <td>  -17.6598</td> <td>   70.156</td> <td>   -0.252</td> <td> 0.801</td> <td> -155.182</td> <td>  119.863</td>\n",
       "</tr>\n",
       "<tr>\n",
       "  <th>Item_Type_2</th>              <td>  -20.3501</td> <td>   99.332</td> <td>   -0.205</td> <td> 0.838</td> <td> -215.065</td> <td>  174.365</td>\n",
       "</tr>\n",
       "<tr>\n",
       "  <th>Item_Type_3</th>              <td>   25.5752</td> <td>   43.498</td> <td>    0.588</td> <td> 0.557</td> <td>  -59.692</td> <td>  110.842</td>\n",
       "</tr>\n",
       "<tr>\n",
       "  <th>Item_Type_4</th>              <td>  -39.1020</td> <td>   42.181</td> <td>   -0.927</td> <td> 0.354</td> <td> -121.786</td> <td>   43.582</td>\n",
       "</tr>\n",
       "<tr>\n",
       "  <th>Item_Type_5</th>              <td>  -16.3270</td> <td>   36.552</td> <td>   -0.447</td> <td> 0.655</td> <td>  -87.979</td> <td>   55.325</td>\n",
       "</tr>\n",
       "<tr>\n",
       "  <th>Item_Type_6</th>              <td>   57.4331</td> <td>   32.452</td> <td>    1.770</td> <td> 0.077</td> <td>   -6.180</td> <td>  121.047</td>\n",
       "</tr>\n",
       "<tr>\n",
       "  <th>Item_Type_7</th>              <td>  -23.6484</td> <td>   75.271</td> <td>   -0.314</td> <td> 0.753</td> <td> -171.198</td> <td>  123.901</td>\n",
       "</tr>\n",
       "<tr>\n",
       "  <th>Item_Type_8</th>              <td>  -18.3938</td> <td>   50.368</td> <td>   -0.365</td> <td> 0.715</td> <td> -117.128</td> <td>   80.340</td>\n",
       "</tr>\n",
       "<tr>\n",
       "  <th>Item_Type_9</th>              <td>  -25.8255</td> <td>   36.610</td> <td>   -0.705</td> <td> 0.481</td> <td>  -97.590</td> <td>   45.939</td>\n",
       "</tr>\n",
       "<tr>\n",
       "  <th>Item_Type_10</th>             <td>   -9.1600</td> <td>   55.496</td> <td>   -0.165</td> <td> 0.869</td> <td> -117.946</td> <td>   99.626</td>\n",
       "</tr>\n",
       "<tr>\n",
       "  <th>Item_Type_11</th>             <td>  -49.5422</td> <td>   83.382</td> <td>   -0.594</td> <td> 0.552</td> <td> -212.992</td> <td>  113.907</td>\n",
       "</tr>\n",
       "<tr>\n",
       "  <th>Item_Type_12</th>             <td>  151.9786</td> <td>  123.695</td> <td>    1.229</td> <td> 0.219</td> <td>  -90.494</td> <td>  394.452</td>\n",
       "</tr>\n",
       "<tr>\n",
       "  <th>Item_Type_13</th>             <td>   17.8470</td> <td>   32.442</td> <td>    0.550</td> <td> 0.582</td> <td>  -45.747</td> <td>   81.441</td>\n",
       "</tr>\n",
       "<tr>\n",
       "  <th>Item_Type_14</th>             <td>  -38.4415</td> <td>   53.977</td> <td>   -0.712</td> <td> 0.476</td> <td> -144.249</td> <td>   67.366</td>\n",
       "</tr>\n",
       "<tr>\n",
       "  <th>Item_Type_15</th>             <td>   -3.1735</td> <td>   87.820</td> <td>   -0.036</td> <td> 0.971</td> <td> -175.323</td> <td>  168.976</td>\n",
       "</tr>\n",
       "<tr>\n",
       "  <th>Outlet_Size_0</th>            <td>  -22.9137</td> <td>  176.101</td> <td>   -0.130</td> <td> 0.896</td> <td> -368.115</td> <td>  322.288</td>\n",
       "</tr>\n",
       "<tr>\n",
       "  <th>Outlet_Type_0</th>            <td>-1736.2919</td> <td>   81.167</td> <td>  -21.392</td> <td> 0.000</td> <td>-1895.399</td> <td>-1577.185</td>\n",
       "</tr>\n",
       "<tr>\n",
       "  <th>Outlet_Type_1</th>            <td>  223.7467</td> <td>   57.506</td> <td>    3.891</td> <td> 0.000</td> <td>  111.022</td> <td>  336.471</td>\n",
       "</tr>\n",
       "<tr>\n",
       "  <th>Outlet_Type_2</th>            <td> -140.9788</td> <td>   71.033</td> <td>   -1.985</td> <td> 0.047</td> <td> -280.221</td> <td>   -1.736</td>\n",
       "</tr>\n",
       "<tr>\n",
       "  <th>Outlet_Type_3</th>            <td> 1644.3102</td> <td>   93.364</td> <td>   17.612</td> <td> 0.000</td> <td> 1461.294</td> <td> 1827.326</td>\n",
       "</tr>\n",
       "</table>\n",
       "<table class=\"simpletable\">\n",
       "<tr>\n",
       "  <th>Omnibus:</th>       <td>961.020</td> <th>  Durbin-Watson:     </th> <td>   2.003</td>\n",
       "</tr>\n",
       "<tr>\n",
       "  <th>Prob(Omnibus):</th> <td> 0.000</td>  <th>  Jarque-Bera (JB):  </th> <td>2294.587</td>\n",
       "</tr>\n",
       "<tr>\n",
       "  <th>Skew:</th>          <td> 0.667</td>  <th>  Prob(JB):          </th> <td>    0.00</td>\n",
       "</tr>\n",
       "<tr>\n",
       "  <th>Kurtosis:</th>      <td> 5.164</td>  <th>  Cond. No.          </th> <td>1.23e+16</td>\n",
       "</tr>\n",
       "</table><br/><br/>Warnings:<br/>[1] Standard Errors assume that the covariance matrix of the errors is correctly specified.<br/>[2] The smallest eigenvalue is 1.35e-24. This might indicate that there are<br/>strong multicollinearity problems or that the design matrix is singular."
      ],
      "text/plain": [
       "<class 'statsmodels.iolib.summary.Summary'>\n",
       "\"\"\"\n",
       "                            OLS Regression Results                            \n",
       "==============================================================================\n",
       "Dep. Variable:      Item_Outlet_Sales   R-squared:                       0.563\n",
       "Model:                            OLS   Adj. R-squared:                  0.561\n",
       "Method:                 Least Squares   F-statistic:                     437.3\n",
       "Date:                Wed, 06 Mar 2019   Prob (F-statistic):               0.00\n",
       "Time:                        07:56:36   Log-Likelihood:                -71998.\n",
       "No. Observations:                8523   AIC:                         1.440e+05\n",
       "Df Residuals:                    8497   BIC:                         1.442e+05\n",
       "Df Model:                          25                                         \n",
       "Covariance Type:            nonrobust                                         \n",
       "============================================================================================\n",
       "                               coef    std err          t      P>|t|      [0.025      0.975]\n",
       "--------------------------------------------------------------------------------------------\n",
       "const                       -9.2138     67.437     -0.137      0.891    -141.406     122.979\n",
       "Item_MRP                    15.5650      0.198     78.660      0.000      15.177      15.953\n",
       "Item_Visibility           -206.1571    258.081     -0.799      0.424    -712.058     299.744\n",
       "Item_Weight                  0.2213      2.659      0.083      0.934      -4.990       5.433\n",
       "Item_Type_Sale_Frequency    -4.4367      4.007     -1.107      0.268     -12.292       3.419\n",
       "Years_Open                  -1.9928      7.181     -0.278      0.781     -16.069      12.083\n",
       "Outlet                      -5.2154     13.066     -0.399      0.690     -30.827      20.396\n",
       "Item_Fat_Content_1          40.3537     28.262      1.428      0.153     -15.046      95.753\n",
       "Item_Type_0                 -0.4238     43.637     -0.010      0.992     -85.963      85.115\n",
       "Item_Type_1                -17.6598     70.156     -0.252      0.801    -155.182     119.863\n",
       "Item_Type_2                -20.3501     99.332     -0.205      0.838    -215.065     174.365\n",
       "Item_Type_3                 25.5752     43.498      0.588      0.557     -59.692     110.842\n",
       "Item_Type_4                -39.1020     42.181     -0.927      0.354    -121.786      43.582\n",
       "Item_Type_5                -16.3270     36.552     -0.447      0.655     -87.979      55.325\n",
       "Item_Type_6                 57.4331     32.452      1.770      0.077      -6.180     121.047\n",
       "Item_Type_7                -23.6484     75.271     -0.314      0.753    -171.198     123.901\n",
       "Item_Type_8                -18.3938     50.368     -0.365      0.715    -117.128      80.340\n",
       "Item_Type_9                -25.8255     36.610     -0.705      0.481     -97.590      45.939\n",
       "Item_Type_10                -9.1600     55.496     -0.165      0.869    -117.946      99.626\n",
       "Item_Type_11               -49.5422     83.382     -0.594      0.552    -212.992     113.907\n",
       "Item_Type_12               151.9786    123.695      1.229      0.219     -90.494     394.452\n",
       "Item_Type_13                17.8470     32.442      0.550      0.582     -45.747      81.441\n",
       "Item_Type_14               -38.4415     53.977     -0.712      0.476    -144.249      67.366\n",
       "Item_Type_15                -3.1735     87.820     -0.036      0.971    -175.323     168.976\n",
       "Outlet_Size_0              -22.9137    176.101     -0.130      0.896    -368.115     322.288\n",
       "Outlet_Type_0            -1736.2919     81.167    -21.392      0.000   -1895.399   -1577.185\n",
       "Outlet_Type_1              223.7467     57.506      3.891      0.000     111.022     336.471\n",
       "Outlet_Type_2             -140.9788     71.033     -1.985      0.047    -280.221      -1.736\n",
       "Outlet_Type_3             1644.3102     93.364     17.612      0.000    1461.294    1827.326\n",
       "==============================================================================\n",
       "Omnibus:                      961.020   Durbin-Watson:                   2.003\n",
       "Prob(Omnibus):                  0.000   Jarque-Bera (JB):             2294.587\n",
       "Skew:                           0.667   Prob(JB):                         0.00\n",
       "Kurtosis:                       5.164   Cond. No.                     1.23e+16\n",
       "==============================================================================\n",
       "\n",
       "Warnings:\n",
       "[1] Standard Errors assume that the covariance matrix of the errors is correctly specified.\n",
       "[2] The smallest eigenvalue is 1.35e-24. This might indicate that there are\n",
       "strong multicollinearity problems or that the design matrix is singular.\n",
       "\"\"\""
      ]
     },
     "execution_count": 9,
     "metadata": {},
     "output_type": "execute_result"
    }
   ],
   "source": [
    "target = 'Item_Outlet_Sales'\n",
    "IDcol = ['Item_Identifier','Outlet_Identifier']\n",
    "predictors = [x for x in train.columns if x not in [target]+IDcol]\n",
    "\n",
    "X = train[predictors]\n",
    "y = train[target]\n",
    "\n",
    "X2 = sm.add_constant(X)\n",
    "est = sm.OLS(y, X2)\n",
    "est2 = est.fit()\n",
    "est2.summary()"
   ]
  },
  {
   "cell_type": "markdown",
   "metadata": {},
   "source": [
    "# LINEAR REGRESSION MODEL"
   ]
  },
  {
   "cell_type": "code",
   "execution_count": 10,
   "metadata": {},
   "outputs": [],
   "source": [
    "target = 'Item_Outlet_Sales'\n",
    "IDs = ['Item_Identifier','Outlet_Identifier']\n",
    "predictors = [x for x in train.columns if x not in [target]+IDs]"
   ]
  },
  {
   "cell_type": "code",
   "execution_count": 11,
   "metadata": {},
   "outputs": [],
   "source": [
    "lreg = LinearRegression(normalize=True)"
   ]
  },
  {
   "cell_type": "code",
   "execution_count": 12,
   "metadata": {},
   "outputs": [
    {
     "name": "stderr",
     "output_type": "stream",
     "text": [
      "/Users/trevor/python-projects/analytics/venv/lib/python2.7/site-packages/sklearn/linear_model/base.py:485: RuntimeWarning:\n",
      "\n",
      "internal gelsd driver lwork query error, required iwork dimension not returned. This is likely the result of LAPACK bug 0038, fixed in LAPACK 3.2.2 (released July 21, 2010). Falling back to 'gelss' driver.\n",
      "\n"
     ]
    },
    {
     "data": {
      "text/plain": [
       "array([3948.,  524., 2308., ..., 1444., 1404., 1220.])"
      ]
     },
     "execution_count": 12,
     "metadata": {},
     "output_type": "execute_result"
    }
   ],
   "source": [
    "lreg.fit(train[predictors], train[target])\n",
    "train_predictions = lreg.predict(train[predictors])\n",
    "train_predictions"
   ]
  },
  {
   "cell_type": "markdown",
   "metadata": {},
   "source": [
    "#### Cross Validation using neg_mean_squared_error"
   ]
  },
  {
   "cell_type": "code",
   "execution_count": 13,
   "metadata": {},
   "outputs": [
    {
     "data": {
      "text/plain": [
       "array([1215.3183843 , 1121.21415393, 1140.4419186 , 1142.04583289,\n",
       "       1141.06171357, 1105.15103434, 1092.12653589, 1143.34005522,\n",
       "       1123.7040707 , 1115.64990499, 1084.9321737 , 1136.64505209,\n",
       "       1153.06743385, 1078.48502928, 1085.34404603, 1193.61512484,\n",
       "       1193.08883191, 1078.81554534, 1212.19833312, 1081.49390162])"
      ]
     },
     "execution_count": 13,
     "metadata": {},
     "output_type": "execute_result"
    }
   ],
   "source": [
    "cv_score = cross_val_score(lreg, train[predictors], train[target], cv=20, scoring='neg_mean_squared_error')\n",
    "cv_score = np.sqrt(np.abs(cv_score))\n",
    "cv_score"
   ]
  },
  {
   "cell_type": "code",
   "execution_count": 14,
   "metadata": {},
   "outputs": [
    {
     "data": {
      "text/plain": [
       "1128.513462641595"
      ]
     },
     "execution_count": 14,
     "metadata": {},
     "output_type": "execute_result"
    }
   ],
   "source": [
    "#RMSE\n",
    "np.sqrt(metrics.mean_squared_error(train[target].values, train_predictions))"
   ]
  },
  {
   "cell_type": "code",
   "execution_count": 15,
   "metadata": {
    "scrolled": true
   },
   "outputs": [
    {
     "data": {
      "text/html": [
       "<div>\n",
       "<style scoped>\n",
       "    .dataframe tbody tr th:only-of-type {\n",
       "        vertical-align: middle;\n",
       "    }\n",
       "\n",
       "    .dataframe tbody tr th {\n",
       "        vertical-align: top;\n",
       "    }\n",
       "\n",
       "    .dataframe thead th {\n",
       "        text-align: right;\n",
       "    }\n",
       "</style>\n",
       "<table border=\"1\" class=\"dataframe\">\n",
       "  <thead>\n",
       "    <tr style=\"text-align: right;\">\n",
       "      <th></th>\n",
       "      <th>coef</th>\n",
       "    </tr>\n",
       "  </thead>\n",
       "  <tbody>\n",
       "    <tr>\n",
       "      <th>Item_Type_6</th>\n",
       "      <td>-1.658177e+16</td>\n",
       "    </tr>\n",
       "    <tr>\n",
       "      <th>Item_Type_13</th>\n",
       "      <td>-1.612992e+16</td>\n",
       "    </tr>\n",
       "    <tr>\n",
       "      <th>Item_Type_9</th>\n",
       "      <td>-7.827165e+15</td>\n",
       "    </tr>\n",
       "    <tr>\n",
       "      <th>Item_Type_5</th>\n",
       "      <td>-5.530258e+15</td>\n",
       "    </tr>\n",
       "    <tr>\n",
       "      <th>Item_Type_4</th>\n",
       "      <td>-7.039478e+13</td>\n",
       "    </tr>\n",
       "    <tr>\n",
       "      <th>Item_Visibility</th>\n",
       "      <td>-1.638607e+02</td>\n",
       "    </tr>\n",
       "    <tr>\n",
       "      <th>Outlet_Size_0</th>\n",
       "      <td>-1.790986e+01</td>\n",
       "    </tr>\n",
       "    <tr>\n",
       "      <th>Outlet</th>\n",
       "      <td>-4.136823e+00</td>\n",
       "    </tr>\n",
       "    <tr>\n",
       "      <th>Years_Open</th>\n",
       "      <td>-2.147117e+00</td>\n",
       "    </tr>\n",
       "    <tr>\n",
       "      <th>Item_Weight</th>\n",
       "      <td>3.472157e-01</td>\n",
       "    </tr>\n",
       "    <tr>\n",
       "      <th>Item_MRP</th>\n",
       "      <td>1.556092e+01</td>\n",
       "    </tr>\n",
       "    <tr>\n",
       "      <th>Item_Fat_Content_1</th>\n",
       "      <td>3.788653e+01</td>\n",
       "    </tr>\n",
       "    <tr>\n",
       "      <th>Item_Type_0</th>\n",
       "      <td>8.709609e+14</td>\n",
       "    </tr>\n",
       "    <tr>\n",
       "      <th>Item_Type_3</th>\n",
       "      <td>9.086151e+14</td>\n",
       "    </tr>\n",
       "    <tr>\n",
       "      <th>Item_Type_Sale_Frequency</th>\n",
       "      <td>2.674203e+15</td>\n",
       "    </tr>\n",
       "    <tr>\n",
       "      <th>Outlet_Type_0</th>\n",
       "      <td>3.780860e+15</td>\n",
       "    </tr>\n",
       "    <tr>\n",
       "      <th>Outlet_Type_2</th>\n",
       "      <td>3.780860e+15</td>\n",
       "    </tr>\n",
       "    <tr>\n",
       "      <th>Outlet_Type_1</th>\n",
       "      <td>3.780860e+15</td>\n",
       "    </tr>\n",
       "    <tr>\n",
       "      <th>Outlet_Type_3</th>\n",
       "      <td>3.780860e+15</td>\n",
       "    </tr>\n",
       "    <tr>\n",
       "      <th>Item_Type_8</th>\n",
       "      <td>5.163543e+15</td>\n",
       "    </tr>\n",
       "    <tr>\n",
       "      <th>Item_Type_10</th>\n",
       "      <td>7.460450e+15</td>\n",
       "    </tr>\n",
       "    <tr>\n",
       "      <th>Item_Type_14</th>\n",
       "      <td>7.648722e+15</td>\n",
       "    </tr>\n",
       "    <tr>\n",
       "      <th>Item_Type_1</th>\n",
       "      <td>1.348513e+16</td>\n",
       "    </tr>\n",
       "    <tr>\n",
       "      <th>Item_Type_7</th>\n",
       "      <td>1.450179e+16</td>\n",
       "    </tr>\n",
       "    <tr>\n",
       "      <th>Item_Type_11</th>\n",
       "      <td>1.604561e+16</td>\n",
       "    </tr>\n",
       "    <tr>\n",
       "      <th>Item_Type_15</th>\n",
       "      <td>1.625271e+16</td>\n",
       "    </tr>\n",
       "    <tr>\n",
       "      <th>Item_Type_2</th>\n",
       "      <td>1.781536e+16</td>\n",
       "    </tr>\n",
       "    <tr>\n",
       "      <th>Item_Type_12</th>\n",
       "      <td>1.964159e+16</td>\n",
       "    </tr>\n",
       "  </tbody>\n",
       "</table>\n",
       "</div>"
      ],
      "text/plain": [
       "                                  coef\n",
       "Item_Type_6              -1.658177e+16\n",
       "Item_Type_13             -1.612992e+16\n",
       "Item_Type_9              -7.827165e+15\n",
       "Item_Type_5              -5.530258e+15\n",
       "Item_Type_4              -7.039478e+13\n",
       "Item_Visibility          -1.638607e+02\n",
       "Outlet_Size_0            -1.790986e+01\n",
       "Outlet                   -4.136823e+00\n",
       "Years_Open               -2.147117e+00\n",
       "Item_Weight               3.472157e-01\n",
       "Item_MRP                  1.556092e+01\n",
       "Item_Fat_Content_1        3.788653e+01\n",
       "Item_Type_0               8.709609e+14\n",
       "Item_Type_3               9.086151e+14\n",
       "Item_Type_Sale_Frequency  2.674203e+15\n",
       "Outlet_Type_0             3.780860e+15\n",
       "Outlet_Type_2             3.780860e+15\n",
       "Outlet_Type_1             3.780860e+15\n",
       "Outlet_Type_3             3.780860e+15\n",
       "Item_Type_8               5.163543e+15\n",
       "Item_Type_10              7.460450e+15\n",
       "Item_Type_14              7.648722e+15\n",
       "Item_Type_1               1.348513e+16\n",
       "Item_Type_7               1.450179e+16\n",
       "Item_Type_11              1.604561e+16\n",
       "Item_Type_15              1.625271e+16\n",
       "Item_Type_2               1.781536e+16\n",
       "Item_Type_12              1.964159e+16"
      ]
     },
     "execution_count": 15,
     "metadata": {},
     "output_type": "execute_result"
    }
   ],
   "source": [
    "df = pd.DataFrame(lreg.coef_, predictors)\n",
    "df.columns = ['coef']\n",
    "df.sort_values('coef', inplace=True)\n",
    "df"
   ]
  },
  {
   "cell_type": "code",
   "execution_count": 16,
   "metadata": {
    "scrolled": true
   },
   "outputs": [
    {
     "data": {
      "text/html": [
       "<iframe id=\"igraph\" scrolling=\"no\" style=\"border:none;\" seamless=\"seamless\" src=\"https://plot.ly/~traynak/10.embed\" height=\"525px\" width=\"100%\"></iframe>"
      ],
      "text/plain": [
       "<plotly.tools.PlotlyDisplay object>"
      ]
     },
     "execution_count": 16,
     "metadata": {},
     "output_type": "execute_result"
    }
   ],
   "source": [
    "trace1 = go.Bar(\n",
    "    x=df.index,\n",
    "    y=df.coef,\n",
    "    name='coef'\n",
    ")\n",
    "data = [trace1]\n",
    "layout = go.Layout(\n",
    "    barmode='group' #stack\n",
    ")\n",
    "fig = go.Figure(data=data, layout=layout)\n",
    "py.iplot(fig, filename='grouped-bar')"
   ]
  },
  {
   "cell_type": "code",
   "execution_count": 17,
   "metadata": {},
   "outputs": [
    {
     "data": {
      "text/plain": [
       "0.5626269112598592"
      ]
     },
     "execution_count": 17,
     "metadata": {},
     "output_type": "execute_result"
    }
   ],
   "source": [
    "#Adjusted R Squared\n",
    "lreg.score(train[predictors], train[target])"
   ]
  },
  {
   "cell_type": "markdown",
   "metadata": {},
   "source": [
    "#### 56.26% of variance in sales is explained by the model"
   ]
  },
  {
   "cell_type": "code",
   "execution_count": 18,
   "metadata": {},
   "outputs": [],
   "source": [
    "#Predict test data\n",
    "test[target] = lreg.predict(test[predictors])"
   ]
  },
  {
   "cell_type": "code",
   "execution_count": 19,
   "metadata": {},
   "outputs": [],
   "source": [
    "#Submission File\n",
    "IDcol.append(target)\n",
    "submission = pd.DataFrame({ x: test[x] for x in IDcol})\n",
    "submission.to_csv('big_mart_sales_final.csv', index=False)"
   ]
  }
 ],
 "metadata": {
  "kernelspec": {
   "display_name": "Python 2",
   "language": "python",
   "name": "python2"
  },
  "language_info": {
   "codemirror_mode": {
    "name": "ipython",
    "version": 2
   },
   "file_extension": ".py",
   "mimetype": "text/x-python",
   "name": "python",
   "nbconvert_exporter": "python",
   "pygments_lexer": "ipython2",
   "version": "2.7.10"
  }
 },
 "nbformat": 4,
 "nbformat_minor": 2
}
